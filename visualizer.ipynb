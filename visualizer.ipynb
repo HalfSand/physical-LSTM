{
 "cells": [
  {
   "cell_type": "code",
   "execution_count": 22,
   "id": "8255e9c7",
   "metadata": {},
   "outputs": [
    {
     "name": "stdout",
     "output_type": "stream",
     "text": [
      "Scene ID:  1009\n",
      "Scene ID:  1087\n",
      "Scene ID:  959\n",
      "Scene ID:  907\n",
      "Scene ID:  1271\n",
      "Scene ID:  868\n",
      "Scene ID:  1209\n",
      "Scene ID:  1077\n",
      "Scene ID:  983\n",
      "Scene ID:  911\n"
     ]
    },
    {
     "name": "stderr",
     "output_type": "stream",
     "text": [
      "C:\\Users\\Administrator\\anaconda3\\envs\\pytorch\\lib\\site-packages\\trajnetplusplustools\\show.py:25: UserWarning: Matplotlib is currently using module://matplotlib_inline.backend_inline, which is a non-GUI backend, so cannot show the figure.\n",
      "  fig.show()\n"
     ]
    }
   ],
   "source": [
    "!python -m evaluator.visualize_predictions DATA_BLOCK/cars/test_private/highD_tracks.ndjson DATA_BLOCK/cars/test_pred/kf_modes1/highD_tracks.ndjson --n 10 --random\n"
   ]
  },
  {
   "cell_type": "code",
   "execution_count": 1,
   "id": "f8005802",
   "metadata": {},
   "outputs": [
    {
     "name": "stderr",
     "output_type": "stream",
     "text": [
      "C:\\Users\\Administrator\\anaconda3\\envs\\pytorch\\lib\\site-packages\\trajnetplusplustools\\show.py:16: UserWarning: Matplotlib is currently using module://matplotlib_inline.backend_inline, which is a non-GUI backend, so cannot show the figure.\n",
      "  fig.show()\n",
      "C:\\Users\\Administrator\\anaconda3\\envs\\pytorch\\lib\\site-packages\\trajnetplusplustools\\show.py:16: UserWarning: Matplotlib is currently using module://matplotlib_inline.backend_inline, which is a non-GUI backend, so cannot show the figure.\n",
      "  fig.show()\n",
      "No artists with labels found to put in legend.  Note that artists whose label start with an underscore are ignored when legend() is called with no argument.\n",
      "C:\\Users\\Administrator\\anaconda3\\envs\\pytorch\\lib\\site-packages\\trajnetplusplustools\\show.py:16: UserWarning: Matplotlib is currently using module://matplotlib_inline.backend_inline, which is a non-GUI backend, so cannot show the figure.\n",
      "  fig.show()\n"
     ]
    }
   ],
   "source": [
    "!python -m slstm.plot_log OUTPUT_BLOCK/cars/lstm_physical_None.pkl.log OUTPUT_BLOCK/cars/lstm_social_None.pkl.log --label Physical_LSTM Social_LSTM\n",
    "# DATA_BLOCK/cars/test_private/inD_tracks.ndjson"
   ]
  },
  {
   "cell_type": "code",
   "execution_count": null,
   "id": "654ea2a0",
   "metadata": {},
   "outputs": [],
   "source": []
  }
 ],
 "metadata": {
  "kernelspec": {
   "display_name": "Python 3 (ipykernel)",
   "language": "python",
   "name": "python3"
  },
  "language_info": {
   "codemirror_mode": {
    "name": "ipython",
    "version": 3
   },
   "file_extension": ".py",
   "mimetype": "text/x-python",
   "name": "python",
   "nbconvert_exporter": "python",
   "pygments_lexer": "ipython3",
   "version": "3.9.13"
  }
 },
 "nbformat": 4,
 "nbformat_minor": 5
}
